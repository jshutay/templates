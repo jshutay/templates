{
 "cells": [
  {
   "cell_type": "markdown",
   "metadata": {},
   "source": [
    "# Practicing Python to Improve My Skills "
   ]
  },
  {
   "cell_type": "markdown",
   "metadata": {},
   "source": [
    "**Logic in Programming**"
   ]
  },
  {
   "cell_type": "code",
   "execution_count": 2,
   "metadata": {},
   "outputs": [
    {
     "name": "stdout",
     "output_type": "stream",
     "text": [
      "5\n"
     ]
    }
   ],
   "source": [
    "num = 5\n",
    "if num > 1:\n",
    "    print(num)"
   ]
  },
  {
   "cell_type": "code",
   "execution_count": 4,
   "metadata": {},
   "outputs": [
    {
     "name": "stdout",
     "output_type": "stream",
     "text": [
      "Hi Jette\n",
      "Have a great day!\n"
     ]
    }
   ],
   "source": [
    "name = \"Jeanette\"\n",
    "if name=='Jeanette':\n",
    "    print(\"Hi Jette\")\n",
    "print(\"Have a great day!\")"
   ]
  },
  {
   "cell_type": "code",
   "execution_count": 6,
   "metadata": {},
   "outputs": [
    {
     "name": "stdout",
     "output_type": "stream",
     "text": [
      "Five or less\n"
     ]
    }
   ],
   "source": [
    "a = 5\n",
    "if a > 5:\n",
    "    print(\"Greater than five\")\n",
    "else:\n",
    "        print(\"Five or less\")"
   ]
  },
  {
   "cell_type": "code",
   "execution_count": 7,
   "metadata": {},
   "outputs": [
    {
     "name": "stdout",
     "output_type": "stream",
     "text": [
      "Spend a little more to get free shipping!\n"
     ]
    }
   ],
   "source": [
    "total = 40.29\n",
    "if total > 50:\n",
    "    print(\"You get free shipping!\")\n",
    "elif total > 40:\n",
    "    print(\"Spend a little more to get free shipping!\")\n",
    "else:\n",
    "    print(\"Spend $50 to get free shipping\")"
   ]
  },
  {
   "cell_type": "code",
   "execution_count": 8,
   "metadata": {},
   "outputs": [
    {
     "name": "stdout",
     "output_type": "stream",
     "text": [
      "Don't divide by zero\n"
     ]
    }
   ],
   "source": [
    "try:\n",
    "    5 / 0\n",
    "except:\n",
    "    print(\"Don't divide by zero\")\n",
    "    "
   ]
  },
  {
   "cell_type": "code",
   "execution_count": 9,
   "metadata": {},
   "outputs": [
    {
     "name": "stdout",
     "output_type": "stream",
     "text": [
      "Valid Math\n"
     ]
    }
   ],
   "source": [
    "try:\n",
    "    5/1\n",
    "    print(\"Valid Math\")\n",
    "except:\n",
    "    print(\"Invalid Math\")"
   ]
  },
  {
   "cell_type": "code",
   "execution_count": 19,
   "metadata": {},
   "outputs": [
    {
     "name": "stdout",
     "output_type": "stream",
     "text": [
      "Receipt for your meal\n",
      "We've added the tip automatically since your party was eight or more\n",
      "Total:  130.68\n",
      "Thank you for dining with us today!\n"
     ]
    }
   ],
   "source": [
    "total = 19 + 9.99 + 13.97 + 20 + 15.97 + 9.97 + 10 * 2\n",
    "party = 8\n",
    "print(\"Receipt for your meal\")\n",
    "if party >=8:\n",
    "    total = total * 1.2\n",
    "    print(\"We've added the tip automatically since your party was eight or more\")\n",
    "print(\"Total: \", total)\n",
    "print(\"Thank you for dining with us today!\")"
   ]
  },
  {
   "cell_type": "markdown",
   "metadata": {},
   "source": [
    "**Storing texts in strings**"
   ]
  },
  {
   "cell_type": "code",
   "execution_count": 20,
   "metadata": {},
   "outputs": [
    {
     "name": "stdout",
     "output_type": "stream",
     "text": [
      "Apple:  $1.99 / lb\n"
     ]
    }
   ],
   "source": [
    "print('Apple: ', '$1.99 / lb')"
   ]
  },
  {
   "cell_type": "code",
   "execution_count": 22,
   "metadata": {},
   "outputs": [
    {
     "name": "stdout",
     "output_type": "stream",
     "text": [
      "Apple: \n",
      "$1.99 / lb\n"
     ]
    }
   ],
   "source": [
    "print('Apple: '),\n",
    "print('$1.99 / lb')"
   ]
  },
  {
   "cell_type": "code",
   "execution_count": 24,
   "metadata": {},
   "outputs": [
    {
     "data": {
      "text/plain": [
       "'JEANETTE'"
      ]
     },
     "execution_count": 24,
     "metadata": {},
     "output_type": "execute_result"
    }
   ],
   "source": [
    "name = \"Jeanette\"\n",
    "name.upper()"
   ]
  },
  {
   "cell_type": "code",
   "execution_count": 25,
   "metadata": {},
   "outputs": [
    {
     "data": {
      "text/plain": [
       "False"
      ]
     },
     "execution_count": 25,
     "metadata": {},
     "output_type": "execute_result"
    }
   ],
   "source": [
    "name.isdigit()"
   ]
  },
  {
   "cell_type": "code",
   "execution_count": 27,
   "metadata": {},
   "outputs": [
    {
     "data": {
      "text/plain": [
       "True"
      ]
     },
     "execution_count": 27,
     "metadata": {},
     "output_type": "execute_result"
    }
   ],
   "source": [
    "name.isalpha()"
   ]
  },
  {
   "cell_type": "code",
   "execution_count": 28,
   "metadata": {},
   "outputs": [
    {
     "data": {
      "text/plain": [
       "'Jeanette Shutay'"
      ]
     },
     "execution_count": 28,
     "metadata": {},
     "output_type": "execute_result"
    }
   ],
   "source": [
    "first_name = \"Jeanette\"\n",
    "last_name = \"Shutay\"\n",
    "first_name + \" \" + last_name"
   ]
  },
  {
   "cell_type": "code",
   "execution_count": 29,
   "metadata": {},
   "outputs": [
    {
     "data": {
      "text/plain": [
       "'55555'"
      ]
     },
     "execution_count": 29,
     "metadata": {},
     "output_type": "execute_result"
    }
   ],
   "source": [
    "a='5'\n",
    "a * 5"
   ]
  },
  {
   "cell_type": "code",
   "execution_count": 30,
   "metadata": {},
   "outputs": [
    {
     "data": {
      "text/plain": [
       "''"
      ]
     },
     "execution_count": 30,
     "metadata": {},
     "output_type": "execute_result"
    }
   ],
   "source": [
    "a * 0"
   ]
  },
  {
   "cell_type": "code",
   "execution_count": 31,
   "metadata": {},
   "outputs": [
    {
     "data": {
      "text/plain": [
       "''"
      ]
     },
     "execution_count": 31,
     "metadata": {},
     "output_type": "execute_result"
    }
   ],
   "source": [
    "a * -5\n",
    "#if multipy or add by float, you will get an error\n",
    "#Can't divide with strings"
   ]
  },
  {
   "cell_type": "code",
   "execution_count": 32,
   "metadata": {},
   "outputs": [
    {
     "name": "stdout",
     "output_type": "stream",
     "text": [
      "Hi, Jeanette!\n",
      "Are you going to the baseball game tomorrow?\n",
      "I'm hoping that I can make it!\n"
     ]
    }
   ],
   "source": [
    "statement = \"Hi, Jeanette!\\nAre you going to the baseball game tomorrow?\\nI'm hoping that I can make it!\"\n",
    "print(statement)"
   ]
  },
  {
   "cell_type": "code",
   "execution_count": 33,
   "metadata": {},
   "outputs": [
    {
     "name": "stdout",
     "output_type": "stream",
     "text": [
      "Dish\tPrice\tType\n"
     ]
    }
   ],
   "source": [
    "header = \"Dish\\tPrice\\tType\"\n",
    "print(header)"
   ]
  },
  {
   "cell_type": "code",
   "execution_count": 35,
   "metadata": {},
   "outputs": [
    {
     "name": "stdout",
     "output_type": "stream",
     "text": [
      "Harry O'Conner\n"
     ]
    }
   ],
   "source": [
    "name = \"Harry O\\'Conner\"\n",
    "print(name)"
   ]
  },
  {
   "cell_type": "markdown",
   "metadata": {},
   "source": [
    "**Processing Input and Output**"
   ]
  },
  {
   "cell_type": "code",
   "execution_count": 36,
   "metadata": {},
   "outputs": [
    {
     "data": {
      "text/plain": [
       "'Jeanette'"
      ]
     },
     "execution_count": 36,
     "metadata": {},
     "output_type": "execute_result"
    }
   ],
   "source": [
    "bad_input = \"***Jeanette***\"\n",
    "bad_input.strip('*')\n",
    "#Can use rstrip and lstrip to remove from one side only"
   ]
  },
  {
   "cell_type": "code",
   "execution_count": 37,
   "metadata": {},
   "outputs": [
    {
     "data": {
      "text/plain": [
       "'Jeanette'"
      ]
     },
     "execution_count": 37,
     "metadata": {},
     "output_type": "execute_result"
    }
   ],
   "source": [
    "bad_input = \"  Jeanette\"\n",
    "bad_input.strip()"
   ]
  },
  {
   "cell_type": "code",
   "execution_count": 39,
   "metadata": {},
   "outputs": [],
   "source": [
    "#Can use .count('the') to count the number of times the word \"the\" appears in a string of text\n",
    "#Can use .find('ugly') to see how many times the word \"ugly\" appears in a string"
   ]
  },
  {
   "cell_type": "code",
   "execution_count": 5,
   "metadata": {},
   "outputs": [
    {
     "name": "stdout",
     "output_type": "stream",
     "text": [
      "30 years\n"
     ]
    }
   ],
   "source": [
    "number = input()"
   ]
  },
  {
   "cell_type": "code",
   "execution_count": 6,
   "metadata": {},
   "outputs": [
    {
     "name": "stdout",
     "output_type": "stream",
     "text": [
      "What is your age?47\n"
     ]
    }
   ],
   "source": [
    "age = input(\"What is your age?\")"
   ]
  },
  {
   "cell_type": "code",
   "execution_count": 7,
   "metadata": {},
   "outputs": [
    {
     "data": {
      "text/plain": [
       "str"
      ]
     },
     "execution_count": 7,
     "metadata": {},
     "output_type": "execute_result"
    }
   ],
   "source": [
    "type(age)"
   ]
  },
  {
   "cell_type": "code",
   "execution_count": 8,
   "metadata": {},
   "outputs": [],
   "source": [
    "age = int(age)"
   ]
  },
  {
   "cell_type": "code",
   "execution_count": 9,
   "metadata": {},
   "outputs": [
    {
     "data": {
      "text/plain": [
       "int"
      ]
     },
     "execution_count": 9,
     "metadata": {},
     "output_type": "execute_result"
    }
   ],
   "source": [
    "type(age)"
   ]
  },
  {
   "cell_type": "code",
   "execution_count": 12,
   "metadata": {},
   "outputs": [
    {
     "name": "stdout",
     "output_type": "stream",
     "text": [
      "Input your password: ········\n"
     ]
    }
   ],
   "source": [
    "from getpass import getpass\n",
    "password = getpass('Input your password: ')"
   ]
  },
  {
   "cell_type": "code",
   "execution_count": 13,
   "metadata": {},
   "outputs": [
    {
     "data": {
      "text/plain": [
       "'Shutay'"
      ]
     },
     "execution_count": 13,
     "metadata": {},
     "output_type": "execute_result"
    }
   ],
   "source": [
    "password"
   ]
  },
  {
   "cell_type": "code",
   "execution_count": 18,
   "metadata": {},
   "outputs": [
    {
     "name": "stdout",
     "output_type": "stream",
     "text": [
      "What year were you born [ex: 1990]? 72\n",
      "Use a four number digit, please\n"
     ]
    }
   ],
   "source": [
    "year = input(\"What year were you born [ex: 1990]? \")\n",
    "if len(year) != 4 or not year.isdigit():\n",
    "    print(\"Use a four number digit, please\")\n",
    "else: \n",
    "    print(\"Thanks!\")"
   ]
  },
  {
   "cell_type": "code",
   "execution_count": 19,
   "metadata": {},
   "outputs": [
    {
     "name": "stdout",
     "output_type": "stream",
     "text": [
      "What is your street name?: Dublin Drive   \n"
     ]
    }
   ],
   "source": [
    "street_name = input(\"What is your street name?: \")\n",
    "street_name = street_name.strip()"
   ]
  },
  {
   "cell_type": "code",
   "execution_count": 22,
   "metadata": {},
   "outputs": [
    {
     "name": "stdout",
     "output_type": "stream",
     "text": [
      "Session: Morning, Condition: Tree Cover,  Day of Week: Saturday. Remember to enter your data into the spreadsheet when done.\n"
     ]
    }
   ],
   "source": [
    "session = \"Session{}, Condition{},  Day of Week{}. Remember to enter your data into the spreadsheet when done.\"\n",
    "daypart = \": Morning\"\n",
    "condition = \": Tree Cover\"\n",
    "dow = \": Saturday\"\n",
    "print(session.format(daypart, condition, dow))"
   ]
  },
  {
   "cell_type": "markdown",
   "metadata": {},
   "source": [
    "**Grouping items in lists**"
   ]
  },
  {
   "cell_type": "code",
   "execution_count": 23,
   "metadata": {},
   "outputs": [
    {
     "data": {
      "text/plain": [
       "['Cardinal', 'Black-capped Chickadee']"
      ]
     },
     "execution_count": 23,
     "metadata": {},
     "output_type": "execute_result"
    }
   ],
   "source": [
    "bird1 = 'Cardinal'\n",
    "bird2 = 'Black-capped Chickadee'\n",
    "bird_list = [bird1, bird2]\n",
    "bird_list"
   ]
  },
  {
   "cell_type": "code",
   "execution_count": 24,
   "metadata": {},
   "outputs": [],
   "source": [
    "bird2 = 'Purple Finch'"
   ]
  },
  {
   "cell_type": "code",
   "execution_count": 25,
   "metadata": {},
   "outputs": [
    {
     "data": {
      "text/plain": [
       "['Cardinal', 'Black-capped Chickadee']"
      ]
     },
     "execution_count": 25,
     "metadata": {},
     "output_type": "execute_result"
    }
   ],
   "source": [
    "bird_list\n",
    "#Stays with Black-capped Chickadee because it was just a copy of bird2"
   ]
  },
  {
   "cell_type": "code",
   "execution_count": 26,
   "metadata": {},
   "outputs": [
    {
     "data": {
      "text/plain": [
       "5"
      ]
     },
     "execution_count": 26,
     "metadata": {},
     "output_type": "execute_result"
    }
   ],
   "source": [
    "numbers = [1, 2, 5, 7, 8]\n",
    "len(numbers)"
   ]
  },
  {
   "cell_type": "code",
   "execution_count": 38,
   "metadata": {},
   "outputs": [
    {
     "data": {
      "text/plain": [
       "2"
      ]
     },
     "execution_count": 38,
     "metadata": {},
     "output_type": "execute_result"
    }
   ],
   "source": [
    "color_list = ['yellow', 'green', 'red', 'blue', 'purple', 'green']\n",
    "color_list.count('green')"
   ]
  },
  {
   "cell_type": "code",
   "execution_count": 28,
   "metadata": {},
   "outputs": [
    {
     "data": {
      "text/plain": [
       "0"
      ]
     },
     "execution_count": 28,
     "metadata": {},
     "output_type": "execute_result"
    }
   ],
   "source": [
    "color_list.count('magenta')"
   ]
  },
  {
   "cell_type": "code",
   "execution_count": 29,
   "metadata": {},
   "outputs": [
    {
     "data": {
      "text/plain": [
       "2"
      ]
     },
     "execution_count": 29,
     "metadata": {},
     "output_type": "execute_result"
    }
   ],
   "source": [
    "color_list.index('red')"
   ]
  },
  {
   "cell_type": "code",
   "execution_count": 30,
   "metadata": {},
   "outputs": [
    {
     "data": {
      "text/plain": [
       "1"
      ]
     },
     "execution_count": 30,
     "metadata": {},
     "output_type": "execute_result"
    }
   ],
   "source": [
    "color_list.index('green')"
   ]
  },
  {
   "cell_type": "code",
   "execution_count": 31,
   "metadata": {},
   "outputs": [
    {
     "data": {
      "text/plain": [
       "'red'"
      ]
     },
     "execution_count": 31,
     "metadata": {},
     "output_type": "execute_result"
    }
   ],
   "source": [
    "color_list[2]"
   ]
  },
  {
   "cell_type": "code",
   "execution_count": 32,
   "metadata": {},
   "outputs": [
    {
     "data": {
      "text/plain": [
       "False"
      ]
     },
     "execution_count": 32,
     "metadata": {},
     "output_type": "execute_result"
    }
   ],
   "source": [
    "'pink' in color_list"
   ]
  },
  {
   "cell_type": "code",
   "execution_count": 39,
   "metadata": {},
   "outputs": [
    {
     "data": {
      "text/plain": [
       "['yellow', 'green', 'red', 'blue', 'purple', 'green', 'black']"
      ]
     },
     "execution_count": 39,
     "metadata": {},
     "output_type": "execute_result"
    }
   ],
   "source": [
    "color_list.append('black')\n",
    "color_list"
   ]
  },
  {
   "cell_type": "code",
   "execution_count": 40,
   "metadata": {},
   "outputs": [
    {
     "data": {
      "text/plain": [
       "['yellow', 'green', 'red', 'blue', 'purple', 'green', 'black', 'red']"
      ]
     },
     "execution_count": 40,
     "metadata": {},
     "output_type": "execute_result"
    }
   ],
   "source": [
    "color_list.append(color_list[2])\n",
    "color_list"
   ]
  },
  {
   "cell_type": "code",
   "execution_count": 41,
   "metadata": {},
   "outputs": [
    {
     "data": {
      "text/plain": [
       "['yellow', 'green', 'blue', 'purple', 'green', 'black', 'red']"
      ]
     },
     "execution_count": 41,
     "metadata": {},
     "output_type": "execute_result"
    }
   ],
   "source": [
    "color_list.remove('red')\n",
    "color_list"
   ]
  },
  {
   "cell_type": "code",
   "execution_count": 43,
   "metadata": {},
   "outputs": [
    {
     "data": {
      "text/plain": [
       "['yellow', 'blue', 'purple', 'green', 'black', 'red']"
      ]
     },
     "execution_count": 43,
     "metadata": {},
     "output_type": "execute_result"
    }
   ],
   "source": [
    "color_list.remove(color_list[1])\n",
    "color_list"
   ]
  },
  {
   "cell_type": "code",
   "execution_count": 44,
   "metadata": {},
   "outputs": [
    {
     "data": {
      "text/plain": [
       "['yellow', 'green', 'blue', 'purple', 'green', 'black', 'red']"
      ]
     },
     "execution_count": 44,
     "metadata": {},
     "output_type": "execute_result"
    }
   ],
   "source": [
    "color_list.insert(1, 'green')\n",
    "color_list"
   ]
  },
  {
   "cell_type": "code",
   "execution_count": 45,
   "metadata": {},
   "outputs": [
    {
     "data": {
      "text/plain": [
       "[1, 9, 7, 2, 2, 4]"
      ]
     },
     "execution_count": 45,
     "metadata": {},
     "output_type": "execute_result"
    }
   ],
   "source": [
    "a = [1, 9, 7, 2]\n",
    "b = [2, 4]\n",
    "a + b"
   ]
  },
  {
   "cell_type": "code",
   "execution_count": 46,
   "metadata": {},
   "outputs": [
    {
     "data": {
      "text/plain": [
       "[1, 9, 7, 2, 1, 9, 7, 2]"
      ]
     },
     "execution_count": 46,
     "metadata": {},
     "output_type": "execute_result"
    }
   ],
   "source": [
    "a * 2"
   ]
  },
  {
   "cell_type": "code",
   "execution_count": 49,
   "metadata": {},
   "outputs": [
    {
     "data": {
      "text/plain": [
       "['red', 'black', 'green', 'purple', 'blue', 'green', 'yellow']"
      ]
     },
     "execution_count": 49,
     "metadata": {},
     "output_type": "execute_result"
    }
   ],
   "source": [
    "color_list.reverse()\n",
    "color_list"
   ]
  },
  {
   "cell_type": "code",
   "execution_count": 50,
   "metadata": {},
   "outputs": [
    {
     "data": {
      "text/plain": [
       "['black', 'blue', 'green', 'green', 'purple', 'red', 'yellow']"
      ]
     },
     "execution_count": 50,
     "metadata": {},
     "output_type": "execute_result"
    }
   ],
   "source": [
    "color_list.sort()\n",
    "color_list\n",
    "#Does the same with numbers"
   ]
  },
  {
   "cell_type": "code",
   "execution_count": 51,
   "metadata": {},
   "outputs": [
    {
     "data": {
      "text/plain": [
       "True"
      ]
     },
     "execution_count": 51,
     "metadata": {},
     "output_type": "execute_result"
    }
   ],
   "source": [
    "classes = ['Algebra', 'English', \"History\", \"Biology\", \"PE\"]\n",
    "sequence = ['Algebra', 'English', \"History\", \"Biology\", \"PE\"]\n",
    "classes == sequence"
   ]
  },
  {
   "cell_type": "markdown",
   "metadata": {},
   "source": [
    "**Using loops to repeat code**"
   ]
  },
  {
   "cell_type": "code",
   "execution_count": 52,
   "metadata": {},
   "outputs": [
    {
     "data": {
      "text/plain": [
       "range(0, 7)"
      ]
     },
     "execution_count": 52,
     "metadata": {},
     "output_type": "execute_result"
    }
   ],
   "source": [
    "range(7)"
   ]
  },
  {
   "cell_type": "code",
   "execution_count": 54,
   "metadata": {},
   "outputs": [
    {
     "data": {
      "text/plain": [
       "range(2, 20, 2)"
      ]
     },
     "execution_count": 54,
     "metadata": {},
     "output_type": "execute_result"
    }
   ],
   "source": [
    "range(2, 20, 2)"
   ]
  },
  {
   "cell_type": "code",
   "execution_count": 56,
   "metadata": {},
   "outputs": [
    {
     "name": "stdout",
     "output_type": "stream",
     "text": [
      "0\n",
      "1\n",
      "2\n",
      "3\n",
      "4\n"
     ]
    }
   ],
   "source": [
    "for i in range(5):\n",
    "    print(i)"
   ]
  },
  {
   "cell_type": "code",
   "execution_count": 58,
   "metadata": {},
   "outputs": [
    {
     "name": "stdout",
     "output_type": "stream",
     "text": [
      "In the 1980...\n",
      "In the 1981...\n",
      "In the 1982...\n",
      "In the 1983...\n",
      "In the 1984...\n",
      "In the 1985...\n",
      "In the 1986...\n",
      "In the 1987...\n",
      "In the 1988...\n",
      "In the 1989...\n",
      "In the 1990...\n",
      "In the 1991...\n",
      "In the 1992...\n",
      "In the 1993...\n",
      "In the 1994...\n",
      "In the 1995...\n",
      "In the 1996...\n",
      "In the 1997...\n",
      "In the 1998...\n",
      "In the 1999...\n",
      "In the 2000...\n",
      "In the 2001...\n",
      "In the 2002...\n",
      "In the 2003...\n",
      "In the 2004...\n",
      "In the 2005...\n",
      "In the 2006...\n",
      "In the 2007...\n",
      "In the 2008...\n",
      "In the 2009...\n",
      "In the 2010...\n",
      "In the 2011...\n",
      "In the 2012...\n",
      "In the 2013...\n",
      "In the 2014...\n",
      "In the 2015...\n",
      "In the 2016...\n",
      "In the 2017...\n",
      "In the 2018...\n",
      "In the 2019...\n"
     ]
    }
   ],
   "source": [
    "for year in range(1980, 2020):\n",
    "    print(\"In the {}...\".format(year))"
   ]
  },
  {
   "cell_type": "code",
   "execution_count": 59,
   "metadata": {},
   "outputs": [
    {
     "name": "stdout",
     "output_type": "stream",
     "text": [
      "That's a nice manx you have there!\n",
      "That's a nice tabby you have there!\n",
      "That's a nice calico you have there!\n"
     ]
    }
   ],
   "source": [
    "cats = ['manx', 'tabby', 'calico']\n",
    "for cat in cats:\n",
    "    print(\"That's a nice {} you have there!\".format(cat))"
   ]
  },
  {
   "cell_type": "code",
   "execution_count": 61,
   "metadata": {},
   "outputs": [
    {
     "name": "stdout",
     "output_type": "stream",
     "text": [
      "100/5 = 20.0 \n",
      "100/2 = 50.0 \n",
      "Ugh, you gave me a zero\n",
      "100/20 = 5.0 \n",
      "100/30 = 3.3333333333333335 \n"
     ]
    }
   ],
   "source": [
    "numbers = [5, 2, 0, 20, 30]\n",
    "for number in numbers:\n",
    "    if number == 0:\n",
    "        print(\"Ugh, you gave me a zero\")\n",
    "        continue\n",
    "    new_number = 100.0/number\n",
    "    print(\"100/{} = {} \".format(number, new_number))"
   ]
  },
  {
   "cell_type": "code",
   "execution_count": 62,
   "metadata": {},
   "outputs": [
    {
     "name": "stdout",
     "output_type": "stream",
     "text": [
      "20.25\n",
      "30.04\n",
      "102.4\n",
      "You will need insurance for this item.\n",
      "50\n",
      "80\n"
     ]
    }
   ],
   "source": [
    "cart = [20.25, 30.04, 102.4, 50, 80]\n",
    "for item in cart:\n",
    "    print(item)\n",
    "    if item > 100:\n",
    "        print(\"You will need insurance for this item.\")"
   ]
  },
  {
   "cell_type": "code",
   "execution_count": 71,
   "metadata": {},
   "outputs": [
    {
     "name": "stdout",
     "output_type": "stream",
     "text": [
      "20.25\n",
      "No insurance is needed for this item\n",
      "30.04\n",
      "No insurance is needed for this item\n",
      "102.4\n",
      "You will need insurance for this item\n"
     ]
    }
   ],
   "source": [
    "cart = [20.25, 30.04, 102.4, 50, 80]\n",
    "for item in cart:\n",
    "    print(item)\n",
    "    if item > 100:\n",
    "        print(\"You will need insurance for this item\")\n",
    "        break\n",
    "    else:\n",
    "        print(\"No insurance is needed for this item\")"
   ]
  },
  {
   "cell_type": "code",
   "execution_count": 79,
   "metadata": {},
   "outputs": [
    {
     "data": {
      "text/html": [
       "<div>\n",
       "<style scoped>\n",
       "    .dataframe tbody tr th:only-of-type {\n",
       "        vertical-align: middle;\n",
       "    }\n",
       "\n",
       "    .dataframe tbody tr th {\n",
       "        vertical-align: top;\n",
       "    }\n",
       "\n",
       "    .dataframe thead th {\n",
       "        text-align: right;\n",
       "    }\n",
       "</style>\n",
       "<table border=\"1\" class=\"dataframe\">\n",
       "  <thead>\n",
       "    <tr style=\"text-align: right;\">\n",
       "      <th></th>\n",
       "      <th>0</th>\n",
       "    </tr>\n",
       "  </thead>\n",
       "  <tbody>\n",
       "    <tr>\n",
       "      <td>count</td>\n",
       "      <td>5.000000</td>\n",
       "    </tr>\n",
       "    <tr>\n",
       "      <td>mean</td>\n",
       "      <td>56.538000</td>\n",
       "    </tr>\n",
       "    <tr>\n",
       "      <td>std</td>\n",
       "      <td>34.334738</td>\n",
       "    </tr>\n",
       "    <tr>\n",
       "      <td>min</td>\n",
       "      <td>20.250000</td>\n",
       "    </tr>\n",
       "    <tr>\n",
       "      <td>25%</td>\n",
       "      <td>30.040000</td>\n",
       "    </tr>\n",
       "    <tr>\n",
       "      <td>50%</td>\n",
       "      <td>50.000000</td>\n",
       "    </tr>\n",
       "    <tr>\n",
       "      <td>75%</td>\n",
       "      <td>80.000000</td>\n",
       "    </tr>\n",
       "    <tr>\n",
       "      <td>max</td>\n",
       "      <td>102.400000</td>\n",
       "    </tr>\n",
       "  </tbody>\n",
       "</table>\n",
       "</div>"
      ],
      "text/plain": [
       "                0\n",
       "count    5.000000\n",
       "mean    56.538000\n",
       "std     34.334738\n",
       "min     20.250000\n",
       "25%     30.040000\n",
       "50%     50.000000\n",
       "75%     80.000000\n",
       "max    102.400000"
      ]
     },
     "execution_count": 79,
     "metadata": {},
     "output_type": "execute_result"
    }
   ],
   "source": [
    "import pandas as pd\n",
    "df = pd.DataFrame(cart)\n",
    "df.describe()"
   ]
  },
  {
   "cell_type": "code",
   "execution_count": 111,
   "metadata": {},
   "outputs": [
    {
     "data": {
      "text/html": [
       "<div>\n",
       "<style scoped>\n",
       "    .dataframe tbody tr th:only-of-type {\n",
       "        vertical-align: middle;\n",
       "    }\n",
       "\n",
       "    .dataframe tbody tr th {\n",
       "        vertical-align: top;\n",
       "    }\n",
       "\n",
       "    .dataframe thead th {\n",
       "        text-align: right;\n",
       "    }\n",
       "</style>\n",
       "<table border=\"1\" class=\"dataframe\">\n",
       "  <thead>\n",
       "    <tr style=\"text-align: right;\">\n",
       "      <th></th>\n",
       "      <th>Sample</th>\n",
       "      <th>DurationHours</th>\n",
       "      <th>Consumption</th>\n",
       "      <th>Valid</th>\n",
       "      <th>Rate</th>\n",
       "      <th>Conversion</th>\n",
       "    </tr>\n",
       "  </thead>\n",
       "  <tbody>\n",
       "    <tr>\n",
       "      <td>count</td>\n",
       "      <td>46.000000</td>\n",
       "      <td>46.000000</td>\n",
       "      <td>46.000000</td>\n",
       "      <td>46.000000</td>\n",
       "      <td>46.000000</td>\n",
       "      <td>46.000000</td>\n",
       "    </tr>\n",
       "    <tr>\n",
       "      <td>mean</td>\n",
       "      <td>12.000000</td>\n",
       "      <td>4.108696</td>\n",
       "      <td>15.210217</td>\n",
       "      <td>0.739130</td>\n",
       "      <td>303.929261</td>\n",
       "      <td>927.371442</td>\n",
       "    </tr>\n",
       "    <tr>\n",
       "      <td>std</td>\n",
       "      <td>6.706547</td>\n",
       "      <td>3.838277</td>\n",
       "      <td>7.644176</td>\n",
       "      <td>0.443961</td>\n",
       "      <td>156.289174</td>\n",
       "      <td>572.518194</td>\n",
       "    </tr>\n",
       "    <tr>\n",
       "      <td>min</td>\n",
       "      <td>1.000000</td>\n",
       "      <td>1.000000</td>\n",
       "      <td>2.900000</td>\n",
       "      <td>0.000000</td>\n",
       "      <td>5.385000</td>\n",
       "      <td>5.385400</td>\n",
       "    </tr>\n",
       "    <tr>\n",
       "      <td>25%</td>\n",
       "      <td>6.250000</td>\n",
       "      <td>1.500000</td>\n",
       "      <td>9.500000</td>\n",
       "      <td>0.250000</td>\n",
       "      <td>198.657000</td>\n",
       "      <td>499.699000</td>\n",
       "    </tr>\n",
       "    <tr>\n",
       "      <td>50%</td>\n",
       "      <td>12.000000</td>\n",
       "      <td>3.000000</td>\n",
       "      <td>12.400000</td>\n",
       "      <td>1.000000</td>\n",
       "      <td>313.062500</td>\n",
       "      <td>716.897400</td>\n",
       "    </tr>\n",
       "    <tr>\n",
       "      <td>75%</td>\n",
       "      <td>17.750000</td>\n",
       "      <td>5.125000</td>\n",
       "      <td>23.275000</td>\n",
       "      <td>1.000000</td>\n",
       "      <td>428.001000</td>\n",
       "      <td>1531.391400</td>\n",
       "    </tr>\n",
       "    <tr>\n",
       "      <td>max</td>\n",
       "      <td>23.000000</td>\n",
       "      <td>12.500000</td>\n",
       "      <td>26.700000</td>\n",
       "      <td>1.000000</td>\n",
       "      <td>652.689000</td>\n",
       "      <td>1787.910200</td>\n",
       "    </tr>\n",
       "  </tbody>\n",
       "</table>\n",
       "</div>"
      ],
      "text/plain": [
       "          Sample  DurationHours  Consumption      Valid        Rate  \\\n",
       "count  46.000000      46.000000    46.000000  46.000000   46.000000   \n",
       "mean   12.000000       4.108696    15.210217   0.739130  303.929261   \n",
       "std     6.706547       3.838277     7.644176   0.443961  156.289174   \n",
       "min     1.000000       1.000000     2.900000   0.000000    5.385000   \n",
       "25%     6.250000       1.500000     9.500000   0.250000  198.657000   \n",
       "50%    12.000000       3.000000    12.400000   1.000000  313.062500   \n",
       "75%    17.750000       5.125000    23.275000   1.000000  428.001000   \n",
       "max    23.000000      12.500000    26.700000   1.000000  652.689000   \n",
       "\n",
       "        Conversion  \n",
       "count    46.000000  \n",
       "mean    927.371442  \n",
       "std     572.518194  \n",
       "min       5.385400  \n",
       "25%     499.699000  \n",
       "50%     716.897400  \n",
       "75%    1531.391400  \n",
       "max    1787.910200  "
      ]
     },
     "execution_count": 111,
     "metadata": {},
     "output_type": "execute_result"
    }
   ],
   "source": [
    "df_birds=pd.read_csv('https://raw.githubusercontent.com/jshutay/Conservation/master/BirdStudyData.csv')\n",
    "df_birds.describe()"
   ]
  },
  {
   "cell_type": "code",
   "execution_count": 119,
   "metadata": {},
   "outputs": [
    {
     "ename": "AttributeError",
     "evalue": "'float' object has no attribute 'format'",
     "output_type": "error",
     "traceback": [
      "\u001b[0;31m---------------------------------------------------------------------------\u001b[0m",
      "\u001b[0;31mAttributeError\u001b[0m                            Traceback (most recent call last)",
      "\u001b[0;32m<ipython-input-119-fa3e2250180a>\u001b[0m in \u001b[0;36m<module>\u001b[0;34m\u001b[0m\n\u001b[1;32m      1\u001b[0m \u001b[0mmetric\u001b[0m \u001b[0;34m=\u001b[0m \u001b[0mdf_birds\u001b[0m\u001b[0;34m[\u001b[0m\u001b[0;34m'Rate'\u001b[0m\u001b[0;34m]\u001b[0m\u001b[0;34m.\u001b[0m\u001b[0mmean\u001b[0m\u001b[0;34m(\u001b[0m\u001b[0;34m)\u001b[0m\u001b[0;34m\u001b[0m\u001b[0;34m\u001b[0m\u001b[0m\n\u001b[1;32m      2\u001b[0m \u001b[0;32mfor\u001b[0m \u001b[0mdaypart\u001b[0m \u001b[0;32min\u001b[0m \u001b[0mdf_birds\u001b[0m\u001b[0;34m[\u001b[0m\u001b[0;34m'TimeofDay'\u001b[0m\u001b[0;34m]\u001b[0m\u001b[0;34m:\u001b[0m\u001b[0;34m\u001b[0m\u001b[0;34m\u001b[0m\u001b[0m\n\u001b[0;32m----> 3\u001b[0;31m     \u001b[0mprint\u001b[0m\u001b[0;34m(\u001b[0m\u001b[0mmetric\u001b[0m\u001b[0;34m.\u001b[0m\u001b[0mformat\u001b[0m\u001b[0;34m(\u001b[0m\u001b[0mdaypart\u001b[0m\u001b[0;34m)\u001b[0m\u001b[0;34m)\u001b[0m\u001b[0;34m\u001b[0m\u001b[0;34m\u001b[0m\u001b[0m\n\u001b[0m\u001b[1;32m      4\u001b[0m \u001b[0;34m\u001b[0m\u001b[0m\n\u001b[1;32m      5\u001b[0m \u001b[0;34m\u001b[0m\u001b[0m\n",
      "\u001b[0;31mAttributeError\u001b[0m: 'float' object has no attribute 'format'"
     ]
    }
   ],
   "source": [
    "metric = df_birds['Rate'].mean()\n",
    "for daypart in df_birds['TimeofDay']:\n",
    "    print(metric.format(daypart))\n",
    "\n",
    "\n",
    "\n",
    "#cats = ['manx', 'tabby', 'calico']\n",
    "#for cat in cats:\n",
    "#    print(\"That's a nice {} you have there!\".format(cat))"
   ]
  },
  {
   "cell_type": "code",
   "execution_count": 124,
   "metadata": {},
   "outputs": [
    {
     "name": "stdout",
     "output_type": "stream",
     "text": [
      "Please give me your age47 years\n",
      "please give me your age in a digits\n",
      "Please give me a two year number for your age47\n",
      "Thank you!\n"
     ]
    }
   ],
   "source": [
    "age = input(\"Please give me your age\")\n",
    "while not age.isdigit():\n",
    "    print(\"please give me your age in a digits\")\n",
    "    age = input(\"Please give me a two year number for your age\")\n",
    "else:\n",
    "    print(\"Thank you!\")"
   ]
  },
  {
   "cell_type": "code",
   "execution_count": 127,
   "metadata": {},
   "outputs": [
    {
     "name": "stdout",
     "output_type": "stream",
     "text": [
      "Give me some text, and I'll count the e's. Enter 'q' to quit: Katie\n",
      "1\n",
      "Give me some text, and I'll count the e's. Enter 'q' to quit: Hannah\n",
      "0\n",
      "Give me some text, and I'll count the e's. Enter 'q' to quit: elderberries\n",
      "4\n",
      "Give me some text, and I'll count the e's. Enter 'q' to quit: q\n"
     ]
    }
   ],
   "source": [
    "while True:\n",
    "    text = input(\"Give me some text, and I'll count the e's. Enter 'q' to quit: \")\n",
    "    if text == 'q':\n",
    "        break\n",
    "    print(text.count('e'))"
   ]
  },
  {
   "cell_type": "markdown",
   "metadata": {},
   "source": [
    "**Using functions to create reusable code**"
   ]
  },
  {
   "cell_type": "code",
   "execution_count": 4,
   "metadata": {},
   "outputs": [
    {
     "name": "stdout",
     "output_type": "stream",
     "text": [
      "INOVA Hospital\n",
      "300 Prince William Parkway\n",
      "Woodbridge, VA 22193\n"
     ]
    }
   ],
   "source": [
    "def print_address(name, address):\n",
    "    print(name)\n",
    "    print(address)\n",
    "hospital = \"INOVA Hospital\"\n",
    "address = \"300 Prince William Parkway\\n\\\n",
    "Woodbridge, VA 22193\"\n",
    "print_address(hospital, address)"
   ]
  },
  {
   "cell_type": "code",
   "execution_count": 5,
   "metadata": {},
   "outputs": [
    {
     "name": "stdout",
     "output_type": "stream",
     "text": [
      "Total for Karen\n",
      "$15.829999999999998\n"
     ]
    }
   ],
   "source": [
    "#Example telling python where the values are supposed to be saved\n",
    "def print_total(customer_name, items):\n",
    "    print(\"Total for {}\".format(customer_name))\n",
    "    total = 0\n",
    "    for item in items:\n",
    "        total = total + item\n",
    "    print(\"${}\".format(total))\n",
    "print_total(items=[4.52, 6.31, 5.00], customer_name=\"Karen\")"
   ]
  },
  {
   "cell_type": "code",
   "execution_count": 9,
   "metadata": {},
   "outputs": [
    {
     "name": "stdout",
     "output_type": "stream",
     "text": [
      "Welcome, James  Grinnell!\n",
      "Enjoy your stay!\n"
     ]
    }
   ],
   "source": [
    "def print_welcome(first, last, middle=''):\n",
    "    print(\"Welcome, {} {} {}!\".format(first, middle, last))\n",
    "    print(\"Enjoy your stay!\")\n",
    "print_welcome(first = \"James\", last = \"Grinnell\")"
   ]
  },
  {
   "cell_type": "code",
   "execution_count": 11,
   "metadata": {},
   "outputs": [
    {
     "data": {
      "text/plain": [
       "24"
      ]
     },
     "execution_count": 11,
     "metadata": {},
     "output_type": "execute_result"
    }
   ],
   "source": [
    "def get_total(items):\n",
    "    total = 0\n",
    "    for item in items:\n",
    "        total = total + item\n",
    "    return total\n",
    "\n",
    "items = [2,5,7,8,2]\n",
    "items_total = get_total(items)\n",
    "items_total"
   ]
  },
  {
   "cell_type": "code",
   "execution_count": 12,
   "metadata": {},
   "outputs": [],
   "source": [
    "def get_square_and_cube(number):\n",
    "    square = number ** 2\n",
    "    cube = number ** 3\n",
    "    return square, cube"
   ]
  },
  {
   "cell_type": "code",
   "execution_count": 14,
   "metadata": {},
   "outputs": [
    {
     "data": {
      "text/plain": [
       "(25, 125)"
      ]
     },
     "execution_count": 14,
     "metadata": {},
     "output_type": "execute_result"
    }
   ],
   "source": [
    "result = get_square_and_cube(5)\n",
    "result"
   ]
  },
  {
   "cell_type": "code",
   "execution_count": 16,
   "metadata": {},
   "outputs": [
    {
     "data": {
      "text/plain": [
       "9"
      ]
     },
     "execution_count": 16,
     "metadata": {},
     "output_type": "execute_result"
    }
   ],
   "source": [
    "square, cube = get_square_and_cube(3)\n",
    "square"
   ]
  },
  {
   "cell_type": "code",
   "execution_count": 17,
   "metadata": {},
   "outputs": [
    {
     "data": {
      "text/plain": [
       "27"
      ]
     },
     "execution_count": 17,
     "metadata": {},
     "output_type": "execute_result"
    }
   ],
   "source": [
    "cube"
   ]
  },
  {
   "cell_type": "code",
   "execution_count": null,
   "metadata": {},
   "outputs": [],
   "source": [
    "#**kwargs is put in the parameters of a function to allow the user to add as many as they want.  The extra parameters get printed out in a dictionary.\n",
    "#*args is put in the parameters of a function, which puts extra parameter inputs into a tuple."
   ]
  }
 ],
 "metadata": {
  "kernelspec": {
   "display_name": "Python 3",
   "language": "python",
   "name": "python3"
  },
  "language_info": {
   "codemirror_mode": {
    "name": "ipython",
    "version": 3
   },
   "file_extension": ".py",
   "mimetype": "text/x-python",
   "name": "python",
   "nbconvert_exporter": "python",
   "pygments_lexer": "ipython3",
   "version": "3.7.4"
  }
 },
 "nbformat": 4,
 "nbformat_minor": 2
}
