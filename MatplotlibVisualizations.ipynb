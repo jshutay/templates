{
 "cells": [
  {
   "cell_type": "markdown",
   "metadata": {},
   "source": [
    "# Visualization Examples Using matplotlib"
   ]
  },
  {
   "cell_type": "code",
   "execution_count": 1,
   "metadata": {},
   "outputs": [],
   "source": [
    "#Import required libraries\n",
    "\n",
    "import pandas as pd\n",
    "import numpy as np\n",
    "import matplotlib.pyplot as plt\n",
    "plt.style.use('seaborn')"
   ]
  },
  {
   "cell_type": "markdown",
   "metadata": {},
   "source": [
    "Dataset is from an experimental study measuring bird seed consumption as a function of Color of feeder (yellow vs. green) and amount of tree Cover (less vs. more). Color was the independent variable and Cover was the mediator variable.\n",
    "\n",
    "A calibration curve was created in order to convert the consumption in centimeters to weight in grams.\n",
    "\n",
    "Rate of consumption was computed by dividing Converation by DurationHours, and Rate served as the dependent variable. "
   ]
  },
  {
   "cell_type": "code",
   "execution_count": 2,
   "metadata": {},
   "outputs": [
    {
     "data": {
      "text/html": [
       "<div>\n",
       "<style scoped>\n",
       "    .dataframe tbody tr th:only-of-type {\n",
       "        vertical-align: middle;\n",
       "    }\n",
       "\n",
       "    .dataframe tbody tr th {\n",
       "        vertical-align: top;\n",
       "    }\n",
       "\n",
       "    .dataframe thead th {\n",
       "        text-align: right;\n",
       "    }\n",
       "</style>\n",
       "<table border=\"1\" class=\"dataframe\">\n",
       "  <thead>\n",
       "    <tr style=\"text-align: right;\">\n",
       "      <th></th>\n",
       "      <th>Sample</th>\n",
       "      <th>DurationHours</th>\n",
       "      <th>Consumption</th>\n",
       "      <th>Color</th>\n",
       "      <th>Cover</th>\n",
       "      <th>Valid</th>\n",
       "      <th>Rate</th>\n",
       "      <th>TimeofDay</th>\n",
       "      <th>Conversion</th>\n",
       "    </tr>\n",
       "  </thead>\n",
       "  <tbody>\n",
       "    <tr>\n",
       "      <th>0</th>\n",
       "      <td>1</td>\n",
       "      <td>12.5</td>\n",
       "      <td>21.3</td>\n",
       "      <td>Green</td>\n",
       "      <td>Yes</td>\n",
       "      <td>0</td>\n",
       "      <td>110.678</td>\n",
       "      <td>Evening</td>\n",
       "      <td>1383.4718</td>\n",
       "    </tr>\n",
       "    <tr>\n",
       "      <th>1</th>\n",
       "      <td>2</td>\n",
       "      <td>12.5</td>\n",
       "      <td>12.1</td>\n",
       "      <td>Green</td>\n",
       "      <td>No</td>\n",
       "      <td>0</td>\n",
       "      <td>55.554</td>\n",
       "      <td>Evening</td>\n",
       "      <td>694.4286</td>\n",
       "    </tr>\n",
       "    <tr>\n",
       "      <th>2</th>\n",
       "      <td>3</td>\n",
       "      <td>12.5</td>\n",
       "      <td>26.7</td>\n",
       "      <td>Green</td>\n",
       "      <td>Yes</td>\n",
       "      <td>0</td>\n",
       "      <td>143.033</td>\n",
       "      <td>Evening</td>\n",
       "      <td>1787.9102</td>\n",
       "    </tr>\n",
       "    <tr>\n",
       "      <th>3</th>\n",
       "      <td>4</td>\n",
       "      <td>7.0</td>\n",
       "      <td>22.6</td>\n",
       "      <td>Green</td>\n",
       "      <td>No</td>\n",
       "      <td>1</td>\n",
       "      <td>211.548</td>\n",
       "      <td>Afternoon</td>\n",
       "      <td>1480.8366</td>\n",
       "    </tr>\n",
       "    <tr>\n",
       "      <th>4</th>\n",
       "      <td>5</td>\n",
       "      <td>3.0</td>\n",
       "      <td>11.1</td>\n",
       "      <td>Green</td>\n",
       "      <td>Yes</td>\n",
       "      <td>1</td>\n",
       "      <td>206.511</td>\n",
       "      <td>Morning</td>\n",
       "      <td>619.5326</td>\n",
       "    </tr>\n",
       "  </tbody>\n",
       "</table>\n",
       "</div>"
      ],
      "text/plain": [
       "   Sample  DurationHours  Consumption  Color Cover  Valid     Rate  TimeofDay  \\\n",
       "0       1           12.5         21.3  Green   Yes      0  110.678    Evening   \n",
       "1       2           12.5         12.1  Green    No      0   55.554    Evening   \n",
       "2       3           12.5         26.7  Green   Yes      0  143.033    Evening   \n",
       "3       4            7.0         22.6  Green    No      1  211.548  Afternoon   \n",
       "4       5            3.0         11.1  Green   Yes      1  206.511    Morning   \n",
       "\n",
       "   Conversion  \n",
       "0   1383.4718  \n",
       "1    694.4286  \n",
       "2   1787.9102  \n",
       "3   1480.8366  \n",
       "4    619.5326  "
      ]
     },
     "execution_count": 2,
     "metadata": {},
     "output_type": "execute_result"
    }
   ],
   "source": [
    "#Import dataset\n",
    "\n",
    "df_birds=pd.read_csv('https://raw.githubusercontent.com/jshutay/Conservation/master/BirdStudyData.csv')\n",
    "df_birds.head()"
   ]
  },
  {
   "cell_type": "markdown",
   "metadata": {},
   "source": [
    "The code chunks to follow provide examples of various visualizations using matplotlib:"
   ]
  },
  {
   "cell_type": "markdown",
   "metadata": {},
   "source": [
    "The first task is to examine aggregations of the data to determine trends in average rate of consumption. The next three blocks of code examine trends in mean consumption rate.  "
   ]
  },
  {
   "cell_type": "code",
   "execution_count": 3,
   "metadata": {},
   "outputs": [
    {
     "data": {
      "text/html": [
       "<div>\n",
       "<style scoped>\n",
       "    .dataframe tbody tr th:only-of-type {\n",
       "        vertical-align: middle;\n",
       "    }\n",
       "\n",
       "    .dataframe tbody tr th {\n",
       "        vertical-align: top;\n",
       "    }\n",
       "\n",
       "    .dataframe thead th {\n",
       "        text-align: right;\n",
       "    }\n",
       "</style>\n",
       "<table border=\"1\" class=\"dataframe\">\n",
       "  <thead>\n",
       "    <tr style=\"text-align: right;\">\n",
       "      <th></th>\n",
       "      <th>Rate</th>\n",
       "    </tr>\n",
       "    <tr>\n",
       "      <th>Color</th>\n",
       "      <th></th>\n",
       "    </tr>\n",
       "  </thead>\n",
       "  <tbody>\n",
       "    <tr>\n",
       "      <th>Green</th>\n",
       "      <td>302.599087</td>\n",
       "    </tr>\n",
       "    <tr>\n",
       "      <th>Yellow</th>\n",
       "      <td>305.259435</td>\n",
       "    </tr>\n",
       "  </tbody>\n",
       "</table>\n",
       "</div>"
      ],
      "text/plain": [
       "              Rate\n",
       "Color             \n",
       "Green   302.599087\n",
       "Yellow  305.259435"
      ]
     },
     "execution_count": 3,
     "metadata": {},
     "output_type": "execute_result"
    }
   ],
   "source": [
    "table = pd.pivot_table(data=df_birds,index='Color',values='Rate',aggfunc=np.mean)\n",
    "table"
   ]
  },
  {
   "cell_type": "code",
   "execution_count": 4,
   "metadata": {},
   "outputs": [
    {
     "data": {
      "text/html": [
       "<div>\n",
       "<style scoped>\n",
       "    .dataframe tbody tr th:only-of-type {\n",
       "        vertical-align: middle;\n",
       "    }\n",
       "\n",
       "    .dataframe tbody tr th {\n",
       "        vertical-align: top;\n",
       "    }\n",
       "\n",
       "    .dataframe thead th {\n",
       "        text-align: right;\n",
       "    }\n",
       "</style>\n",
       "<table border=\"1\" class=\"dataframe\">\n",
       "  <thead>\n",
       "    <tr style=\"text-align: right;\">\n",
       "      <th></th>\n",
       "      <th>Rate</th>\n",
       "    </tr>\n",
       "    <tr>\n",
       "      <th>Cover</th>\n",
       "      <th></th>\n",
       "    </tr>\n",
       "  </thead>\n",
       "  <tbody>\n",
       "    <tr>\n",
       "      <th>No</th>\n",
       "      <td>333.883957</td>\n",
       "    </tr>\n",
       "    <tr>\n",
       "      <th>Yes</th>\n",
       "      <td>273.974565</td>\n",
       "    </tr>\n",
       "  </tbody>\n",
       "</table>\n",
       "</div>"
      ],
      "text/plain": [
       "             Rate\n",
       "Cover            \n",
       "No     333.883957\n",
       "Yes    273.974565"
      ]
     },
     "execution_count": 4,
     "metadata": {},
     "output_type": "execute_result"
    }
   ],
   "source": [
    "table2 = pd.pivot_table(data=df_birds,index='Cover',values='Rate',aggfunc=np.mean)\n",
    "table2"
   ]
  },
  {
   "cell_type": "code",
   "execution_count": 5,
   "metadata": {},
   "outputs": [
    {
     "data": {
      "text/html": [
       "<div>\n",
       "<style scoped>\n",
       "    .dataframe tbody tr th:only-of-type {\n",
       "        vertical-align: middle;\n",
       "    }\n",
       "\n",
       "    .dataframe tbody tr th {\n",
       "        vertical-align: top;\n",
       "    }\n",
       "\n",
       "    .dataframe thead th {\n",
       "        text-align: right;\n",
       "    }\n",
       "</style>\n",
       "<table border=\"1\" class=\"dataframe\">\n",
       "  <thead>\n",
       "    <tr style=\"text-align: right;\">\n",
       "      <th></th>\n",
       "      <th>Rate</th>\n",
       "    </tr>\n",
       "    <tr>\n",
       "      <th>TimeofDay</th>\n",
       "      <th></th>\n",
       "    </tr>\n",
       "  </thead>\n",
       "  <tbody>\n",
       "    <tr>\n",
       "      <th>Afternoon</th>\n",
       "      <td>333.812900</td>\n",
       "    </tr>\n",
       "    <tr>\n",
       "      <th>Evening</th>\n",
       "      <td>244.703071</td>\n",
       "    </tr>\n",
       "    <tr>\n",
       "      <th>Morning</th>\n",
       "      <td>328.035182</td>\n",
       "    </tr>\n",
       "  </tbody>\n",
       "</table>\n",
       "</div>"
      ],
      "text/plain": [
       "                 Rate\n",
       "TimeofDay            \n",
       "Afternoon  333.812900\n",
       "Evening    244.703071\n",
       "Morning    328.035182"
      ]
     },
     "execution_count": 5,
     "metadata": {},
     "output_type": "execute_result"
    }
   ],
   "source": [
    "table3 = pd.pivot_table(data=df_birds,index='TimeofDay',values='Rate',aggfunc=np.mean)\n",
    "table3"
   ]
  },
  {
   "cell_type": "markdown",
   "metadata": {},
   "source": [
    "The next chunk of code creates a bar chart based on the newly created table"
   ]
  },
  {
   "cell_type": "code",
   "execution_count": 6,
   "metadata": {},
   "outputs": [
    {
     "data": {
      "image/png": "[encoded data removed]",
      "text/plain": [
       "<Figure size 576x396 with 1 Axes>"
      ]
     },
     "metadata": {},
     "output_type": "display_data"
    }
   ],
   "source": [
    "#bar graph\n",
    "plt.bar(table.index,table['Rate'])\n",
    "\n",
    "#xticks \n",
    "plt.xticks(rotation=70) \n",
    "\n",
    "#x-axis labels \n",
    "plt.xlabel('Color of Feeder') \n",
    "\n",
    "#y-axis labels \n",
    "plt.ylabel('Consumption Rate') \n",
    "\n",
    "#plot title \n",
    "plt.title('Bird Seed Consumption by Feeder Color') \n",
    "\n",
    "#save plot \n",
    "plt.savefig('/Users/jshutay/Downloads/BirdFeederChart.png',dpi=300,bbox_inches='tight') \n"
   ]
  },
  {
   "cell_type": "markdown",
   "metadata": {},
   "source": [
    "The next block of code shows the consumption rate based on daypart."
   ]
  },
  {
   "cell_type": "code",
   "execution_count": 9,
   "metadata": {},
   "outputs": [
    {
     "data": {
      "image/png": "[encoded data removed]",
      "text/plain": [
       "<Figure size 576x396 with 1 Axes>"
      ]
     },
     "metadata": {},
     "output_type": "display_data"
    }
   ],
   "source": [
    "#dictionary for rate consumed by unique samples\n",
    "item_count = {}\n",
    "\n",
    "for i in range(table3.index.nunique()):\n",
    "    item_count[table3.index[i]] = table3.Rate[i]/df_birds[df_birds['TimeofDay']==table3.index[i]].shape[0]\n",
    "\n",
    "#bar plot \n",
    "plt.bar([x for x in item_count.keys()],[x for x in item_count.values()],color='orange')\n",
    "\n",
    "#adjust xticks\n",
    "plt.xticks(rotation=70)\n",
    "\n",
    "#label x-axis\n",
    "plt.xlabel('Time of Day')\n",
    "\n",
    "#label y-axis\n",
    "plt.ylabel('Rate per Daypart')\n",
    "\n",
    "#label the plot\n",
    "plt.title('Rate of Consumption by Daypart')\n",
    "\n",
    "#save plot\n",
    "plt.savefig('/Users/jshutay/Downloads/BirdFeederChart2.png',dpi=300,bbox_inches='tight')\n"
   ]
  },
  {
   "cell_type": "markdown",
   "metadata": {},
   "source": [
    "Creating a Pie Chart - This code does not work, still trying to troubleshoot."
   ]
  },
  {
   "cell_type": "code",
   "execution_count": 10,
   "metadata": {},
   "outputs": [],
   "source": [
    "#dictionary for Color and its total rate of consumption\n",
    "d_Color = {}\n",
    "\n",
    "#total Rate of consumption\n",
    "total = df_birds['Rate'].sum()\n",
    "\n",
    "#find ratio of rate of consumption per Color\n",
    "for i in range(df_birds['Color'].nunique()):\n",
    "    c = df_birds['Color'].unique()[i]\n",
    "\n",
    "#Total Rate of consumption by Color\n",
    "c_Rate = df_birds[df_birds['Color']==c]['Rate'].sum()\n",
    "d_Color[c] = c_Rate/total"
   ]
  },
  {
   "cell_type": "code",
   "execution_count": 18,
   "metadata": {},
   "outputs": [
    {
     "data": {
      "image/png": "[encoded data removed]",
      "text/plain": [
       "<Figure size 576x396 with 1 Axes>"
      ]
     },
     "metadata": {},
     "output_type": "display_data"
    }
   ],
   "source": [
    "#pie plot\n",
    "plt.pie([x*100 for x in d_Color.values()],labels=[x for x in d_Color.keys()],autopct='%0.1f',explode=[0,0.1])\n",
    "\n",
    "#label the plot\n",
    "plt.title('Total Rate of Consumption by Color')\n",
    "plt.savefig('/Users/jshutay/Downloads/BirdFeederChart3.png',dpi=300,bbox_inches='tight')"
   ]
  },
  {
   "cell_type": "markdown",
   "metadata": {},
   "source": [
    "Creating Box Plots"
   ]
  },
  {
   "cell_type": "code",
   "execution_count": 20,
   "metadata": {},
   "outputs": [],
   "source": [
    "#dictionary for Rate per Cover\n",
    "c_rate = {}\n",
    "for i in df_birds['Cover'].unique():\n",
    "    c_rate[i] = df_birds[df_birds['Cover']==i].Rate"
   ]
  },
  {
   "cell_type": "code",
   "execution_count": 21,
   "metadata": {},
   "outputs": [
    {
     "data": {
      "image/png": "[encoded data removed]",
      "text/plain": [
       "<Figure size 576x396 with 1 Axes>"
      ]
     },
     "metadata": {},
     "output_type": "display_data"
    }
   ],
   "source": [
    "#plotting boxplot\n",
    "plt.boxplot([x for x in c_rate.values()],labels=[x for x in c_rate.keys()])\n",
    "\n",
    "#x and y-axis labels\n",
    "plt.xlabel('Cover')\n",
    "plt.ylabel('Rate')\n",
    "\n",
    "#plot title\n",
    "plt.title('Analysing Rate of Consumption by Cover')\n",
    "\n",
    "#save and display\n",
    "plt.savefig('/Users/jshutay/Downloads/BirdFeederChart4.png',dpi=300,bbox_inches='tight')"
   ]
  },
  {
   "cell_type": "markdown",
   "metadata": {},
   "source": [
    "Creating Histograms"
   ]
  },
  {
   "cell_type": "code",
   "execution_count": 22,
   "metadata": {},
   "outputs": [
    {
     "data": {
      "image/png": "[encoded data removed]",
      "text/plain": [
       "<Figure size 576x396 with 1 Axes>"
      ]
     },
     "metadata": {},
     "output_type": "display_data"
    }
   ],
   "source": [
    "#plotting histogram\n",
    "plt.hist(df_birds['Rate'],rwidth=0.9,alpha=0.3,color='blue',bins=15,edgecolor='red')\n",
    "\n",
    "#x and y-axis labels\n",
    "plt.xlabel('Rate of Consumption Range')\n",
    "plt.ylabel('Number of Samples')\n",
    "\n",
    "#plot title\n",
    "plt.title('Distribution')\n",
    "\n",
    "#save and display the plot\n",
    "plt.savefig('/Users/jshutay/Downloads/BirdFeederChart5.png',dpi=300,bbox_inches='tight')\n",
    "plt.show();"
   ]
  },
  {
   "cell_type": "markdown",
   "metadata": {},
   "source": [
    "Line Plot and Subplots"
   ]
  },
  {
   "cell_type": "code",
   "execution_count": 23,
   "metadata": {},
   "outputs": [],
   "source": [
    "#new average consumption column\n",
    "df_birds['AvgConsumption'] = df_birds.apply(lambda x: x.Consumption/x.DurationHours,axis=1)\n",
    "\n",
    "#list to store month-wise revenue\n",
    "time=[]\n",
    "time_order=[]\n",
    "\n",
    "for i in range(max(df_birds['Sample'])):\n",
    "    time.append(i)\n",
    "    time_order.append(df_birds[df_birds['Sample']==i].AvgConsumption.sum())\n",
    "    \n",
    "#list to store week-wise revenue\n",
    "#week=[]\n",
    "#week_order=[]\n",
    "#for i in range(max(df['week'])):\n",
    "#    week.append(i)\n",
    "#    week_order.append(df[df['week']==i].revenue.sum())"
   ]
  },
  {
   "cell_type": "code",
   "execution_count": 24,
   "metadata": {},
   "outputs": [
    {
     "data": {
      "image/png": "[encoded data removed]",
      "text/plain": [
       "<Figure size 1440x360 with 2 Axes>"
      ]
     },
     "metadata": {},
     "output_type": "display_data"
    }
   ],
   "source": [
    "#subplots returns a Figure and an Axes object\n",
    "fig,ax=plt.subplots(nrows=1,ncols=2,figsize=(20,5))\n",
    "\n",
    "#manipulating the first Axes\n",
    "ax[0].plot(time,time_order)\n",
    "ax[0].set_xlabel('Sample')\n",
    "ax[0].set_ylabel('Average Consumption')\n",
    "ax[0].set_title('Average Consumption over Time')\n",
    "\n",
    "#manipulating the second Axes\n",
    "#ax[1].plot(month,month_order)\n",
    "#ax[1].set_xlabel('Month')\n",
    "#ax[1].set_ylabel('Revenue')\n",
    "#ax[1].set_title('Monthly income')\n",
    "\n",
    "#save and display the plot\n",
    "plt.savefig('/Users/jshutay/Downloads/BirdFeederChart6.png',dpi=300,bbox_inches='tight')\n"
   ]
  },
  {
   "cell_type": "markdown",
   "metadata": {},
   "source": [
    "Other Stuff"
   ]
  },
  {
   "cell_type": "code",
   "execution_count": null,
   "metadata": {},
   "outputs": [],
   "source": [
    "daypart_name = ['Morning','Afternoon','Evening']\n",
    "\n",
    "#relation between time of day and rate of consumption\n",
    "hours_table=pd.pivot_table(df_birds,index='DurationHours',values='Rate',aggfunc=np.sum)\n",
    "\n",
    "#relation between center type and op area\n",
    "daypart_type = {}\n",
    "for i in daypart_name:\n",
    "    daypart_type[i] = df_birds[df_birds['TimeofDay']==i].TimeofDay\n",
    "\n",
    "#relation between center type and num of orders\n",
    "daypart_table=pd.pivot_table(df_birds,index='TimeofDay',values='Rate',aggfunc=np.sum)\n",
    "\n",
    "#subplots\n",
    "fig,ax = plt.subplots(nrows=3,ncols=1,figsize=(8,12))\n",
    "\n",
    "#scatter plots\n",
    "ax[0].scatter(hours_table.index,hours_table['Rate'],color='pink')\n",
    "ax[0].set_xlabel('Number of Hours')\n",
    "ax[0].set_ylabel('Rate of Consumption')\n",
    "ax[0].set_title('Does number of hours affect rate of consumption')\n",
    "#ax[0].annotate('optimum number of hours of 4 km^2',xy=(4.2,1.1*10**7),xytext=(7,1.1*10**7),arrowprops=dict(facecolor='black', shrink=0.05),fontsize=12)\n",
    "\n",
    "#boxplot\n",
    "ax[1].boxplot([x for x in daypart_type.values()], labels=[x for x in daypart_type.keys()])\n",
    "ax[1].set_xlabel('Daypart')\n",
    "ax[1].set_ylabel('Number of Hours')\n",
    "ax[1].set_title('Which daypart had the highest consumption rate?')\n",
    "\n",
    "#bar graph\n",
    "ax[2].bar(center_table.index,daypart_table['Rate'],alpha=0.7,color='orange',width=0.5)\n",
    "ax[2].set_xlabel('Daypart')\n",
    "ax[2].set_ylabel('Rate')\n",
    "ax[2].set_title('Rate per Daypart')\n",
    "\n",
    "#show figure\n",
    "plt.tight_layout()\n",
    "plt.savefig('/Users/jshutay/Downloads/BirdFeederChart7.png',dpi=300,bbox_inches='tight')"
   ]
  },
  {
   "cell_type": "code",
   "execution_count": null,
   "metadata": {},
   "outputs": [],
   "source": []
  }
 ],
 "metadata": {
  "kernelspec": {
   "display_name": "Python 3",
   "language": "python",
   "name": "python3"
  },
  "language_info": {
   "codemirror_mode": {
    "name": "ipython",
    "version": 3
   },
   "file_extension": ".py",
   "mimetype": "text/x-python",
   "name": "python",
   "nbconvert_exporter": "python",
   "pygments_lexer": "ipython3",
   "version": "3.7.4"
  }
 },
 "nbformat": 4,
 "nbformat_minor": 4
}
