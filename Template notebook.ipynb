{
 "cells": [
  {
   "cell_type": "code",
   "execution_count": 6,
   "metadata": {},
   "outputs": [],
   "source": [
    "### Import packages\n",
    "\n",
    "import pandas as pd\n",
    "from datetime import datetime\n",
    "\n",
    "import numpy as np"
   ]
  },
  {
   "cell_type": "code",
   "execution_count": 7,
   "metadata": {},
   "outputs": [],
   "source": [
    "### Read csv file into Python\n",
    "        \n",
    "filename = 'BirdStudyData.csv'\n",
    "BirdStudyData = pd.read_csv(filename,\n",
    "                            delimiter=',',\n",
    "                            nrows=46, \n",
    "                            header=None,\n",
    "                            sep='\\t', \n",
    "                            comment='#',\n",
    "                            na_values=[\"\"])"
   ]
  },
  {
   "cell_type": "code",
   "execution_count": 38,
   "metadata": {},
   "outputs": [
    {
     "name": "stdout",
     "output_type": "stream",
     "text": [
      "         0              1            2       3      4      5        6  \\\n",
      "0   Sample  DurationHours  Consumption   Color  Cover  Valid     Rate   \n",
      "1        1           12.5         21.3   Green    Yes      0  110.678   \n",
      "2        2           12.5         12.1   Green     No      0   55.554   \n",
      "3        3           12.5         26.7   Green    Yes      0  143.033   \n",
      "4        4              7         22.6   Green     No      1  211.548   \n",
      "5        5              3         11.1   Green    Yes      1  206.511   \n",
      "6        6              3         15.9   Green     No      1  326.344   \n",
      "7        7              3         11.4   Green    Yes      1  214.000   \n",
      "8        8              9         26.7   Green     No      0  198.657   \n",
      "9        9            5.5         11.4   Green     No      1  116.728   \n",
      "10      10              4         26.7   Green    Yes      0  446.978   \n",
      "11      11              1          2.9   Green     No      1    5.385   \n",
      "12      12            3.5         18.7   Green    Yes      1  339.641   \n",
      "13      13              2         11.3   Green     No      1  317.256   \n",
      "14      14            1.5         13.3   Green     No      1  522.869   \n",
      "15      15            1.5          9.5   Green    Yes      1  333.133   \n",
      "16      16            1.5          7.6   Green    Yes      1  238.264   \n",
      "17      17            1.5         12.7   Green     No      1  492.911   \n",
      "18      18              1          7.6   Green    Yes      1  357.397   \n",
      "19      19              2         12.7   Green    Yes      1  369.683   \n",
      "20      20            3.5         26.7   Green    Yes      0  510.831   \n",
      "21      21              1         10.8   Green     No      1  597.064   \n",
      "22      22              1          8.4   Green    Yes      1  417.313   \n",
      "23      23            1.5         11.4   Green     No      1  428.001   \n",
      "24       1           12.5          9.1  Yellow     No      0   37.579   \n",
      "25       2           12.5         26.7  Yellow    Yes      0  143.033   \n",
      "26       3           12.5         26.7  Yellow     No      0  143.033   \n",
      "27       4              7         23.5  Yellow    Yes      1  221.178   \n",
      "28       5              3         19.1  Yellow     No      1  406.234   \n",
      "29       6              3         15.2  Yellow    Yes      1  308.869   \n",
      "30       7              3         23.9  Yellow     No      1  526.067   \n",
      "31       8              9         26.7  Yellow    Yes      0  198.657   \n",
      "32       9            5.5         12.7  Yellow    Yes      1  134.430   \n",
      "33      10              4         26.7  Yellow     No      0  446.978   \n",
      "34      11              1         6.35  Yellow    Yes      1  263.777   \n",
      "35      12            3.5         25.7  Yellow     No      1  489.433   \n",
      "36      13              2         7.62  Yellow    Yes      1  179.447   \n",
      "37      14            1.5          9.5  Yellow    Yes      1  333.133   \n",
      "38      15            1.5         11.4  Yellow     No      1  428.001   \n",
      "39      16            1.5         15.9  Yellow     No      1  652.689   \n",
      "40      17            1.5         11.6  Yellow    Yes      1  437.987   \n",
      "41      18              1          5.6  Yellow     No      1  207.605   \n",
      "42      19              2         11.4  Yellow     No      1  321.001   \n",
      "43      20            3.5         26.7  Yellow     No      0  510.831   \n",
      "44      21              1          5.7  Yellow    Yes      1  215.094   \n",
      "45      22              1            6  Yellow     No      1  237.563   \n",
      "\n",
      "            7           8  \n",
      "0   TimeofDay  Conversion  \n",
      "1     Evening   1383.4718  \n",
      "2     Evening    694.4286  \n",
      "3     Evening   1787.9102  \n",
      "4   Afternoon   1480.8366  \n",
      "5     Morning    619.5326  \n",
      "6     Morning    979.0334  \n",
      "7     Morning    642.0014  \n",
      "8   Afternoon   1787.9102  \n",
      "9     Morning    642.0014  \n",
      "10    Morning   1787.9102  \n",
      "11    Morning      5.3854  \n",
      "12    Morning   1188.7422  \n",
      "13    Morning    634.5118  \n",
      "14  Afternoon    784.3038  \n",
      "15  Afternoon     499.699  \n",
      "16  Afternoon    357.3966  \n",
      "17    Evening    739.3662  \n",
      "18    Evening    357.3966  \n",
      "19    Evening    739.3662  \n",
      "20    Morning   1787.9102  \n",
      "21    Morning    597.0638  \n",
      "22    Morning    417.3134  \n",
      "23    Evening    642.0014  \n",
      "24    Evening    469.7406  \n",
      "25    Evening   1787.9102  \n",
      "26    Evening   1787.9102  \n",
      "27  Afternoon    1548.243  \n",
      "28    Morning   1218.7006  \n",
      "29    Morning    926.6062  \n",
      "30    Morning   1578.2014  \n",
      "31  Afternoon   1787.9102  \n",
      "32    Morning    739.3662  \n",
      "33    Morning   1787.9102  \n",
      "34    Morning    263.7766  \n",
      "35    Morning   1713.0142  \n",
      "36    Morning   358.89452  \n",
      "37  Afternoon     499.699  \n",
      "38  Afternoon    642.0014  \n",
      "39  Afternoon    979.0334  \n",
      "40    Evening    656.9806  \n",
      "41    Evening    207.6046  \n",
      "42    Evening    642.0014  \n",
      "43    Morning   1787.9102  \n",
      "44    Morning    215.0942  \n",
      "45    Morning     237.563  \n"
     ]
    }
   ],
   "source": [
    "### Examine dataaset\n",
    "\n",
    "print(BirdStudyData)"
   ]
  },
  {
   "cell_type": "code",
   "execution_count": 8,
   "metadata": {},
   "outputs": [
    {
     "data": {
      "text/html": [
       "<div>\n",
       "<style scoped>\n",
       "    .dataframe tbody tr th:only-of-type {\n",
       "        vertical-align: middle;\n",
       "    }\n",
       "\n",
       "    .dataframe tbody tr th {\n",
       "        vertical-align: top;\n",
       "    }\n",
       "\n",
       "    .dataframe thead th {\n",
       "        text-align: right;\n",
       "    }\n",
       "</style>\n",
       "<table border=\"1\" class=\"dataframe\">\n",
       "  <thead>\n",
       "    <tr style=\"text-align: right;\">\n",
       "      <th></th>\n",
       "      <th>0</th>\n",
       "      <th>1</th>\n",
       "      <th>2</th>\n",
       "      <th>3</th>\n",
       "      <th>4</th>\n",
       "      <th>5</th>\n",
       "      <th>6</th>\n",
       "      <th>7</th>\n",
       "      <th>8</th>\n",
       "    </tr>\n",
       "  </thead>\n",
       "  <tbody>\n",
       "    <tr>\n",
       "      <th>count</th>\n",
       "      <td>46</td>\n",
       "      <td>46</td>\n",
       "      <td>46</td>\n",
       "      <td>46</td>\n",
       "      <td>46</td>\n",
       "      <td>46</td>\n",
       "      <td>46</td>\n",
       "      <td>46</td>\n",
       "      <td>46</td>\n",
       "    </tr>\n",
       "    <tr>\n",
       "      <th>unique</th>\n",
       "      <td>24</td>\n",
       "      <td>11</td>\n",
       "      <td>29</td>\n",
       "      <td>3</td>\n",
       "      <td>3</td>\n",
       "      <td>3</td>\n",
       "      <td>39</td>\n",
       "      <td>4</td>\n",
       "      <td>29</td>\n",
       "    </tr>\n",
       "    <tr>\n",
       "      <th>top</th>\n",
       "      <td>1</td>\n",
       "      <td>1.5</td>\n",
       "      <td>26.7</td>\n",
       "      <td>Green</td>\n",
       "      <td>No</td>\n",
       "      <td>1</td>\n",
       "      <td>143.033</td>\n",
       "      <td>Morning</td>\n",
       "      <td>1787.9102</td>\n",
       "    </tr>\n",
       "    <tr>\n",
       "      <th>freq</th>\n",
       "      <td>2</td>\n",
       "      <td>9</td>\n",
       "      <td>9</td>\n",
       "      <td>23</td>\n",
       "      <td>23</td>\n",
       "      <td>33</td>\n",
       "      <td>3</td>\n",
       "      <td>22</td>\n",
       "      <td>9</td>\n",
       "    </tr>\n",
       "  </tbody>\n",
       "</table>\n",
       "</div>"
      ],
      "text/plain": [
       "         0    1     2      3   4   5        6        7          8\n",
       "count   46   46    46     46  46  46       46       46         46\n",
       "unique  24   11    29      3   3   3       39        4         29\n",
       "top      1  1.5  26.7  Green  No   1  143.033  Morning  1787.9102\n",
       "freq     2    9     9     23  23  33        3       22          9"
      ]
     },
     "execution_count": 8,
     "metadata": {},
     "output_type": "execute_result"
    }
   ],
   "source": [
    "#Descriptive statistics for dataset\n",
    "\n",
    "BirdStudyData.describe()\n",
    "\n"
   ]
  },
  {
   "cell_type": "code",
   "execution_count": 14,
   "metadata": {},
   "outputs": [
    {
     "data": {
      "text/plain": [
       "Series([], dtype: float64)"
      ]
     },
     "execution_count": 14,
     "metadata": {},
     "output_type": "execute_result"
    }
   ],
   "source": [
    "BirdStudyData.mean()"
   ]
  },
  {
   "cell_type": "code",
   "execution_count": 16,
   "metadata": {},
   "outputs": [
    {
     "data": {
      "text/plain": [
       "<matplotlib.collections.PathCollection at 0x11502d940>"
      ]
     },
     "execution_count": 16,
     "metadata": {},
     "output_type": "execute_result"
    },
    {
     "data": {
      "image/png": "[encoded data removed]",
      "text/plain": [
       "<Figure size 432x288 with 1 Axes>"
      ]
     },
     "metadata": {
      "needs_background": "light"
     },
     "output_type": "display_data"
    }
   ],
   "source": [
    "#Create a scatterplot visualization\n",
    "\n",
    "import matplotlib.pyplot as plt\n",
    "\n",
    "plt.scatter(BirdStudyData[1], BirdStudyData[2])\n"
   ]
  },
  {
   "cell_type": "code",
   "execution_count": null,
   "metadata": {},
   "outputs": [],
   "source": []
  }
 ],
 "metadata": {
  "kernelspec": {
   "display_name": "Python 3",
   "language": "python",
   "name": "python3"
  },
  "language_info": {
   "codemirror_mode": {
    "name": "ipython",
    "version": 3
   },
   "file_extension": ".py",
   "mimetype": "text/x-python",
   "name": "python",
   "nbconvert_exporter": "python",
   "pygments_lexer": "ipython3",
   "version": "3.7.1"
  }
 },
 "nbformat": 4,
 "nbformat_minor": 2
}
